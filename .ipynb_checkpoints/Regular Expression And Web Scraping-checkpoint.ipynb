{
 "cells": [
  {
   "cell_type": "markdown",
   "metadata": {},
   "source": [
    "# Regular Expression"
   ]
  },
  {
   "cell_type": "markdown",
   "metadata": {},
   "source": [
    "<b> A regular expression is a special sequence of characters that helps you <font color = \"Red\">match</font> or <font color = \"Red\">find</font> other strings or sets of strings, using a specialized syntax held in a pattern.</b> "
   ]
  },
  {
   "cell_type": "markdown",
   "metadata": {},
   "source": [
    "- The Module <b><font color =\"red\" >re</font></b> provides full support for Regular Expression in Python.\n",
    "- The re module raises the exception re.error if an error occurs while compiling or using a regular expression."
   ]
  },
  {
   "cell_type": "markdown",
   "metadata": {},
   "source": [
    "We would cover two important functions, which would be used to handle regular expressions.They are:\n",
    "<b>\n",
    "1. match Function\n",
    "2. search Function"
   ]
  },
  {
   "cell_type": "markdown",
   "metadata": {},
   "source": [
    "## Basic patterns that match single chars"
   ]
  },
  {
   "cell_type": "markdown",
   "metadata": {},
   "source": [
    "| Expression And Matches      | Meaning       | \n",
    "|:-------------:|:-------------:| \n",
    "|a, X, 9, <|ordinary characters just match themselves exactly.|\n",
    "|. (a period)|matches any single character except newline '\\n'|\n",
    "|\\w|matches a \"word\" character: a letter or digit or underbar [a-zA-Z0-9_].|\n",
    "|\\W|matches any non-word character.|\n",
    "|\\b|boundary between word and non-word.|\n",
    "|\\s|matches a single whitespace character -- space, newline, return, tab|\n",
    "|\\S|matches any non-whitespace character.|\n",
    "|\\t, \\n, \\r|tab, newline, return|\t\n",
    "|\\d|decimal digit [0-9]|\n",
    "|^|matches start of the string.|\t\n",
    "|$|match the end of the string.|\n",
    "|\\|inhibit the \"specialness\" of a character.|"
   ]
  },
  {
   "cell_type": "markdown",
   "metadata": {},
   "source": [
    "## The match Function"
   ]
  },
  {
   "cell_type": "markdown",
   "metadata": {},
   "source": [
    "- This function attempts to match RE pattern to string with optional flags.\n",
    "<b><br>\n",
    "Here is Syntax:\n",
    "\n",
    "       re.match(pattern, string, flags = 0)\n",
    "        \n",
    "</b>         "
   ]
  },
  {
   "cell_type": "markdown",
   "metadata": {},
   "source": [
    "Here is the description of parameters: \n",
    "#### 1. pattern\n",
    "     - This is the regular expression to be matched.\n",
    "#### 2. string\n",
    "     - This is the string, which would be searched to match the pattern at the beginning of string.\n",
    "#### 3. flags\n",
    "     - You can specify different flags using bitwise OR (|). These are modifiers, which are listed in the table below.\n",
    "\n"
   ]
  },
  {
   "cell_type": "markdown",
   "metadata": {
    "collapsed": true
   },
   "source": [
    "The <font color = \"red\">re.match</font> function returns a <font color = \"red\">match object</font> on success, <font color = \"red\">None</font> on failure. We use <font color = \"red\">group(num)</font> or <font color = \"red\">groups()</font> function of match object to get matched expression.\n",
    "#### group(num = 0)\n",
    "   - This method returns entire match (or specific subgroup num)\n",
    "\t\n",
    "#### groups()\n",
    "- This method returns all matching subgroups in a tuple (empty if there weren't any)\n",
    "\n",
    "### Example:"
   ]
  },
  {
   "cell_type": "code",
   "execution_count": 1,
   "metadata": {
    "collapsed": false
   },
   "outputs": [
    {
     "name": "stdout",
     "output_type": "stream",
     "text": [
      "('A quick Brown Fox Jumps', '')\n",
      "matchObj(0) is : A quick Brown Fox Jumps Over \n",
      "matchObj(1) is : A quick Brown Fox Jumps\n",
      "matchObj(2) is : \n",
      "(0, 29)\n"
     ]
    }
   ],
   "source": [
    "import re \n",
    "line = \"A quick Brown Fox Jumps Over A lazy Dog\"\n",
    "matchObj = re.match( r'(.*) over (.*?)', line, re.M|re.I)\n",
    "if matchObj:\n",
    "    print(matchObj.groups())\n",
    "    print(\"matchObj(0) is :\",matchObj.group(0))\n",
    "    print(\"matchObj(1) is :\",matchObj.group(1))\n",
    "    print(\"matchObj(2) is :\",matchObj.group(2))\n",
    "else:\n",
    "    print (\"Nothing found!!\")\n",
    "print(matchObj.span())"
   ]
  },
  {
   "cell_type": "markdown",
   "metadata": {},
   "source": [
    "## The search Function"
   ]
  },
  {
   "cell_type": "markdown",
   "metadata": {},
   "source": [
    " - This function attempts to match RE pattern to string with optional flags.\n",
    " \n",
    " ##### Syntax:\n",
    "             re.search(pattern, string, flags = 0)\n",
    "\n"
   ]
  },
  {
   "cell_type": "code",
   "execution_count": 2,
   "metadata": {
    "collapsed": false
   },
   "outputs": [
    {
     "name": "stdout",
     "output_type": "stream",
     "text": [
      "searchObj.groups() :  ('A quick Brown Fox', 'Over')\n",
      "searchObj.group() :  A quick Brown Fox Jumps Over A lazy Dog\n",
      "searchObj.group(1) :  A quick Brown Fox\n",
      "searchObj.group(2) :  Over\n"
     ]
    }
   ],
   "source": [
    "import re\n",
    "\n",
    "line = \"A quick Brown Fox Jumps Over A lazy Dog\"\n",
    "\n",
    "searchObj = re.search( r'(.*) Jumps (.*?) .*', line, re.M|re.I)\n",
    "\n",
    "if searchObj:\n",
    "   print (\"searchObj.groups() : \", searchObj.groups())\n",
    "   print (\"searchObj.group() : \", searchObj.group())\n",
    "   print (\"searchObj.group(1) : \", searchObj.group(1))\n",
    "   print (\"searchObj.group(2) : \", searchObj.group(2))\n",
    "else:\n",
    "   print (\"Nothing found!!\")"
   ]
  },
  {
   "cell_type": "markdown",
   "metadata": {},
   "source": [
    "## Matching Versus Searching\n",
    "Python offers two different primitive operations based on regular expressions: match checks for a match only at the beginning of the string, while search checks for a match anywhere in the string (this is what Perl does by default)."
   ]
  },
  {
   "cell_type": "code",
   "execution_count": 3,
   "metadata": {
    "collapsed": false
   },
   "outputs": [
    {
     "name": "stdout",
     "output_type": "stream",
     "text": [
      "No match!!\n",
      "Python\n"
     ]
    }
   ],
   "source": [
    "import re\n",
    "\n",
    "line = \"Welcome to Python course\";\n",
    "\n",
    "matchObj = re.match( r'Python', line, re.M|re.I)\n",
    "if matchObj:\n",
    "   print (matchObj.group())\n",
    "else:\n",
    "   print (\"No match!!\")\n",
    "\n",
    "searchObj = re.search( r'Python', line, re.M|re.I)\n",
    "if searchObj:\n",
    "   print (searchObj.group())\n",
    "else:\n",
    "   print (\"Nothing found!!\")\n"
   ]
  },
  {
   "cell_type": "markdown",
   "metadata": {},
   "source": [
    "## Search and Replace"
   ]
  },
  {
   "cell_type": "markdown",
   "metadata": {},
   "source": [
    "One of the most important re methods that use regular expressions is sub.\n",
    "\n",
    "#### Syntax :\n",
    "\n",
    "          re.sub(pattern, repl, string, max=0)\n",
    "\n",
    "This method replaces all occurrences of the RE pattern in string with repl, substituting all occurrences unless max is provided. This method returns modified string.     \n",
    "\n"
   ]
  },
  {
   "cell_type": "code",
   "execution_count": 4,
   "metadata": {
    "collapsed": false
   },
   "outputs": [
    {
     "name": "stdout",
     "output_type": "stream",
     "text": [
      "String is :  Welcome to Python course\n"
     ]
    }
   ],
   "source": [
    "#replace C with python\n",
    "string= \"Welcome to C course\"\n",
    "num = re.sub(r'C', \"Python\", string)    \n",
    "print (\"String is : \", num)"
   ]
  },
  {
   "cell_type": "code",
   "execution_count": 5,
   "metadata": {
    "collapsed": false
   },
   "outputs": [
    {
     "name": "stdout",
     "output_type": "stream",
     "text": [
      "Phone Num :  956669556666\n"
     ]
    }
   ],
   "source": [
    "# Remove anything other than digits\n",
    "phone= \"for any enquiry please contact 95666-9556666\"\n",
    "num = re.sub(r'\\D', \"\", phone)    \n",
    "print (\"Phone Num : \" , num)"
   ]
  },
  {
   "cell_type": "markdown",
   "metadata": {},
   "source": [
    "## Regular Expression Modifiers: Option Flags"
   ]
  },
  {
   "cell_type": "markdown",
   "metadata": {},
   "source": [
    "|Modifier       | Description   | \n",
    "|:-------------:|:-------------:| \n",
    "|re.I|Performs case-insensitive matching.|\n",
    "|re.L|Interprets words according to the current locale. This interpretation affects the alphabetic group (\\w and \\W), as well as word boundary behavior (\\b and \\B).|\n",
    "|re.M|Makes $ match the end of a line (not just the end of the string) and makes ^ match the start of any line (not just the start of the string).|\n",
    "|re.S|Makes a period (dot) match any character, including a newline.|\n",
    "|re.U|Interprets letters according to the Unicode character set. This flag affects the behavior of \\w, \\W, \\b, \\B.|\n",
    "|re.X|Permits \"cuter\" regular expression syntax. It ignores whitespace (except inside a set [ ] or when escaped by a backslash) and treats unescaped # as a comment marker.|"
   ]
  },
  {
   "cell_type": "markdown",
   "metadata": {},
   "source": [
    "## Regular Expression Patterns"
   ]
  },
  {
   "cell_type": "markdown",
   "metadata": {},
   "source": [
    "<b>\n",
    "Except for the control characters, <font color=\"red\">(+ ? . * ^ $ ( ) [ ] { } | \\)</font>, all characters match themselves. You can escape a control character by preceding it with a backslash.\n",
    "</b>\n"
   ]
  },
  {
   "cell_type": "markdown",
   "metadata": {},
   "source": [
    "### Character Classes"
   ]
  },
  {
   "cell_type": "code",
   "execution_count": 6,
   "metadata": {
    "collapsed": false
   },
   "outputs": [
    {
     "data": {
      "text/plain": [
       "['Dog']"
      ]
     },
     "execution_count": 6,
     "metadata": {},
     "output_type": "execute_result"
    }
   ],
   "source": [
    "import re\n",
    "string = \"A quick brown fox jumps over a lazy Dog.\"\n",
    "re.findall('Dog',string) #Match \"Dog\""
   ]
  },
  {
   "cell_type": "code",
   "execution_count": 7,
   "metadata": {
    "collapsed": false
   },
   "outputs": [
    {
     "name": "stdout",
     "output_type": "stream",
     "text": [
      "['Dog']\n",
      "['dog']\n"
     ]
    }
   ],
   "source": [
    "# match \"Dog\" or \"dog\"\n",
    "print(re.findall('[dD]og',string)) \n",
    "string = \"A quick brown fox jumps over a lazy dog.\"\n",
    "print(re.findall('[dD]og',string))"
   ]
  },
  {
   "cell_type": "code",
   "execution_count": 8,
   "metadata": {
    "collapsed": false
   },
   "outputs": [
    {
     "name": "stdout",
     "output_type": "stream",
     "text": [
      "['u', 'i', 'o', 'o', 'u', 'o', 'e', 'a', 'a', 'o']\n",
      "['A', ' ', 'q', 'c', 'k', ' ', 'b', 'r', 'w', 'n', ' ', 'f', 'x', ' ', 'j', 'm', 'p', 's', ' ', 'v', 'r', ' ', ' ', 'l', 'z', 'y', ' ', 'D', 'g', '.']\n"
     ]
    }
   ],
   "source": [
    "#Match any one lowercase vowel\n",
    "string = \"A quick brown fox jumps over a lazy Dog.\"\n",
    "print(re.findall(r'[aeiou]',string))\n",
    "\n",
    "#Match anything other than a lowercase vowel\n",
    "print(re.findall(r'[^aeiou]',string))"
   ]
  },
  {
   "cell_type": "code",
   "execution_count": 9,
   "metadata": {
    "collapsed": false
   },
   "outputs": [
    {
     "name": "stdout",
     "output_type": "stream",
     "text": [
      "['4', '6', '4']\n",
      "['64']\n",
      "['c', 'u', 'b', 'e', ' ', 'o', 'f', ' ', ' ', 'i', 's', ' ']\n"
     ]
    }
   ],
   "source": [
    "#Match any digit; \n",
    "string = \"cube of 4 is 64\"\n",
    "print(re.findall(r'[0-9]',string))  #same as [0123456789]\n",
    "print(re.findall(r'[0-9][0-9]',string)) #consecutive occurence of two digit\n",
    "\n",
    "#Match anything other than a digit\n",
    "print(re.findall(r'[^0-9]',string))"
   ]
  },
  {
   "cell_type": "code",
   "execution_count": 10,
   "metadata": {
    "collapsed": false
   },
   "outputs": [
    {
     "name": "stdout",
     "output_type": "stream",
     "text": [
      "['q', 'u', 'i', 'c', 'k', 'b', 'r', 'o', 'w', 'n', 'f', 'o', 'x', 'j', 'u', 'm', 'p', 's', 'o', 'v', 'e', 'r', 'a', 'l', 'a', 'z', 'y', 'o', 'g']\n",
      "['A', 'D']\n"
     ]
    }
   ],
   "source": [
    "string = \"A quick brown fox jumps over a lazy Dog.\"\n",
    "print(re.findall(r'[a-z]',string))   #Match any lowercase ASCII letter\n",
    "print(re.findall(r'[A-Z]',string ))  #Match any uppercase ASCII letter"
   ]
  },
  {
   "cell_type": "code",
   "execution_count": 11,
   "metadata": {
    "collapsed": false
   },
   "outputs": [
    {
     "name": "stdout",
     "output_type": "stream",
     "text": [
      "['p', 'h', 'o', 'n', 'e', 'i', 's', 'i', 'n', 'd', '9', '2', '5', '0', '1', '4', '4', '4']\n"
     ]
    }
   ],
   "source": [
    "#Match any of the above\n",
    "string = \"phone is: ind/#92501444\"\n",
    "print(re.findall(r'[a-zA-Z0-9]',string))\n"
   ]
  },
  {
   "cell_type": "markdown",
   "metadata": {},
   "source": [
    "# Program to extract out Name and Age from String"
   ]
  },
  {
   "cell_type": "code",
   "execution_count": 12,
   "metadata": {
    "collapsed": false
   },
   "outputs": [
    {
     "name": "stdout",
     "output_type": "stream",
     "text": [
      "{'Mohan': '12', 'Sooraj': '5', 'Ram': '10', 'Manish': '15'}\n"
     ]
    }
   ],
   "source": [
    "import re\n",
    "\n",
    "NameAge = ''' Ram is 10 and he is fond of listening music\n",
    "              Mohan is 12 and he loves to play cricket\n",
    "              Manish is 15 and he is studious\n",
    "              Sooraj is 5 and youngest among all.'''\n",
    "\n",
    "ages = re.findall(r'\\d{1,3}',NameAge)\n",
    "names = re.findall(r'[A-Z][a-z]*',NameAge)\n",
    "\n",
    "agedict = dict(zip(names, ages))\n",
    "print(agedict)"
   ]
  },
  {
   "cell_type": "markdown",
   "metadata": {},
   "source": [
    "# Filter Email"
   ]
  },
  {
   "cell_type": "code",
   "execution_count": 13,
   "metadata": {
    "collapsed": false
   },
   "outputs": [
    {
     "name": "stdout",
     "output_type": "stream",
     "text": [
      "Number of Valid Email Address are: 2\n",
      "Valid Email Address are : ['abc@gmail.com', 'pqr21@yahoo.com']\n"
     ]
    }
   ],
   "source": [
    "import re\n",
    "email = \"abc@gmail.com ab.com hi.com py@.com pqr21@yahoo.com \"\n",
    "matches = re.findall(r'[\\w._%+-]{1,20}@[\\w]{2,20}.[A-Za-z]{2,3}',email)\n",
    "print( \"Number of Valid Email Address are:\", len(matches))\n",
    "print( \"Valid Email Address are :\" , matches)"
   ]
  },
  {
   "cell_type": "markdown",
   "metadata": {
    "collapsed": true
   },
   "source": [
    "# Web Scraping"
   ]
  },
  {
   "cell_type": "markdown",
   "metadata": {},
   "source": [
    "## Example 1"
   ]
  },
  {
   "cell_type": "code",
   "execution_count": 14,
   "metadata": {
    "collapsed": true
   },
   "outputs": [],
   "source": [
    "import urllib.request\n",
    "import re\n",
    "\n",
    "url = 'http://pythonprogramming.net/parse-website-using-regular-expressions-urllib/'\n",
    "\n",
    "req = urllib.request.Request(url)\n",
    "resp = urllib.request.urlopen(req)\n",
    "respData = resp.read()"
   ]
  },
  {
   "cell_type": "code",
   "execution_count": 15,
   "metadata": {
    "collapsed": true
   },
   "outputs": [],
   "source": [
    "paragraphs = re.findall(r'<p>(.*?)</p>',str(respData))"
   ]
  },
  {
   "cell_type": "code",
   "execution_count": 16,
   "metadata": {
    "collapsed": false
   },
   "outputs": [
    {
     "name": "stdout",
     "output_type": "stream",
     "text": [
      "In this video, we use two of Python 3\\'s standard library modules, re and urllib, to parse paragraph data from a website. As we saw, initially, when you use Python 3 and urllib to parse a website, you get all of the HTML data, like using \"view source\" on a web page. This HTML data is great if you are viewing via a browser, but is incredibly messy if you are viewing the raw source. For this reason, we need to build something that can sift through the mess and just pull the article data that we are interested in. There are some web scraping libraries out there, namely BeautifulSoup, which are aimed at doing this same sort of task.\n",
      "On to the code:\n",
      "Up to this point, everything should look pretty typical, as you\\'ve seen it all before. We specify our url, our values dict, encode the values, build our request, make our request, and then store the request to respData. We can print it out if we want to see what we\\'re working with. If you are using an IDE, sometimes printing out the source code is not the greatest idea. Many webpages, especially larger ones, have very large amounts of code in their source. Printing all of this out can take quite a while in the IDLE. Personally, I prefer to just view-source. In Google Chrome, for example, control+u will view-source. \n",
      "Alternatively, you should be able to just right-click on the page and select view-source. Once there, you want to look for your \"target data.\" In our case, we just want to take the paragraph text data. If you\\'re looking for something specific, then what I suggest you do is copy some of the \"thing\" you are looking for. So in the case of specific paragraph text, highlight some of it, copy it, then view the source. Once there, do a find operation, control+f usually will open one up, then paste in what you are looking for. Once you\\'ve done that, you should be able to find some identifiers near what you are looking for. In the case of paragraph data, it is paragraph data because people tell the browser it is. This means usually that there are literally paragraph tags around what we want that look like: \n",
      "Some websites get fancy with their HTML and do things like \n",
      "...keep this in mind. With that in mind, most websites just use simple paragraph tags, so let\\'s show that: \n",
      "The above regular expression states: Find me anything that starts with a paragraph tag, then in our parenthesis, we say exactly \"what\" we\\'re looking for, and that\\'s basically any character, except for a newline, one or more repetitions of that character, and finally there may be 0 or 1 of THIS expression. After that, we have a closing paragraph tag. We find as many of these that exist. This will generate a list, which we can then iterate through with:\n",
      "The output should be a bunch of paragraph data from our website.\n",
      "The next tutorial: <a title=\"Tkinter intro\" href=\"/python-3-tkinter-basics-tutorial/?completed=/parse-website-using-regular-expressions-urllib/\"><button class=\"btn\" style=\"background-color:#FFD166; color:#000000\">Tkinter intro</button></a>\n",
      "<a href=\"/introduction-to-python-programming/\"><button class=\"btn waves-effect waves-light right-align\" style=\"background-color:#FFD166; color:#000000\">Go\\n\\t\\t\\t\\t\\t\\t\\t\\t\\t  </button></a>\n",
      "<a href=\"/python-tutorial-print-function-strings/\"><button class=\"btn waves-effect waves-light right-align\" style=\"background-color:#FFD166; color:#000000\">Go\\n\\t\\t\\t\\t\\t\\t\\t\\t\\t  </button></a>\n",
      "<a href=\"/math-basics-python-3-beginner-tutorial/\"><button class=\"btn waves-effect waves-light right-align\" style=\"background-color:#FFD166; color:#000000\">Go\\n\\t\\t\\t\\t\\t\\t\\t\\t\\t  </button></a>\n",
      "<a href=\"/python-3-variables-tutorial/\"><button class=\"btn waves-effect waves-light right-align\" style=\"background-color:#FFD166; color:#000000\">Go\\n\\t\\t\\t\\t\\t\\t\\t\\t\\t  </button></a>\n",
      "<a href=\"/python-3-loop-tutorial/\"><button class=\"btn waves-effect waves-light right-align\" style=\"background-color:#FFD166; color:#000000\">Go\\n\\t\\t\\t\\t\\t\\t\\t\\t\\t  </button></a>\n",
      "<a href=\"/loop-python-3-basics-tutorial/\"><button class=\"btn waves-effect waves-light right-align\" style=\"background-color:#FFD166; color:#000000\">Go\\n\\t\\t\\t\\t\\t\\t\\t\\t\\t  </button></a>\n",
      "<a href=\"/if-statement-python-3-basics-tutorial/\"><button class=\"btn waves-effect waves-light right-align\" style=\"background-color:#FFD166; color:#000000\">Go\\n\\t\\t\\t\\t\\t\\t\\t\\t\\t  </button></a>\n",
      "<a href=\"/else-python-3-tutorial/\"><button class=\"btn waves-effect waves-light right-align\" style=\"background-color:#FFD166; color:#000000\">Go\\n\\t\\t\\t\\t\\t\\t\\t\\t\\t  </button></a>\n",
      "<a href=\"/elif-else-python-3-tutorial/\"><button class=\"btn waves-effect waves-light right-align\" style=\"background-color:#FFD166; color:#000000\">Go\\n\\t\\t\\t\\t\\t\\t\\t\\t\\t  </button></a>\n",
      "<a href=\"/functions-python-3-basics-tutorial/\"><button class=\"btn waves-effect waves-light right-align\" style=\"background-color:#FFD166; color:#000000\">Go\\n\\t\\t\\t\\t\\t\\t\\t\\t\\t  </button></a>\n",
      "<a href=\"/function-parameters-python-3-basics/\"><button class=\"btn waves-effect waves-light right-align\" style=\"background-color:#FFD166; color:#000000\">Go\\n\\t\\t\\t\\t\\t\\t\\t\\t\\t  </button></a>\n",
      "<a href=\"/function-parameter-defaults-python-3-basics/\"><button class=\"btn waves-effect waves-light right-align\" style=\"background-color:#FFD166; color:#000000\">Go\\n\\t\\t\\t\\t\\t\\t\\t\\t\\t  </button></a>\n",
      "<a href=\"/global-local-variables/\"><button class=\"btn waves-effect waves-light right-align\" style=\"background-color:#FFD166; color:#000000\">Go\\n\\t\\t\\t\\t\\t\\t\\t\\t\\t  </button></a>\n",
      "<a href=\"/installing-modules-python-3/\"><button class=\"btn waves-effect waves-light right-align\" style=\"background-color:#FFD166; color:#000000\">Go\\n\\t\\t\\t\\t\\t\\t\\t\\t\\t  </button></a>\n",
      "<a href=\"/using-pip-install-for-python-modules/\"><button class=\"btn waves-effect waves-light right-align\" style=\"background-color:#FFD166; color:#000000\">Go\\n\\t\\t\\t\\t\\t\\t\\t\\t\\t  </button></a>\n",
      "<a href=\"/common-errors-python-3-basics/\"><button class=\"btn waves-effect waves-light right-align\" style=\"background-color:#FFD166; color:#000000\">Go\\n\\t\\t\\t\\t\\t\\t\\t\\t\\t  </button></a>\n",
      "<a href=\"/writing-file-python-3-basics/\"><button class=\"btn waves-effect waves-light right-align\" style=\"background-color:#FFD166; color:#000000\">Go\\n\\t\\t\\t\\t\\t\\t\\t\\t\\t  </button></a>\n",
      "<a href=\"/appending-file-python-3-tutorial/\"><button class=\"btn waves-effect waves-light right-align\" style=\"background-color:#FFD166; color:#000000\">Go\\n\\t\\t\\t\\t\\t\\t\\t\\t\\t  </button></a>\n",
      "<a href=\"/reading-file-python-3-tutorial/\"><button class=\"btn waves-effect waves-light right-align\" style=\"background-color:#FFD166; color:#000000\">Go\\n\\t\\t\\t\\t\\t\\t\\t\\t\\t  </button></a>\n",
      "<a href=\"/classes-python-3-basics-tutorial/\"><button class=\"btn waves-effect waves-light right-align\" style=\"background-color:#FFD166; color:#000000\">Go\\n\\t\\t\\t\\t\\t\\t\\t\\t\\t  </button></a>\n",
      "<a href=\"/frequently-asked-questions-python-3/\"><button class=\"btn waves-effect waves-light right-align\" style=\"background-color:#FFD166; color:#000000\">Go\\n\\t\\t\\t\\t\\t\\t\\t\\t\\t  </button></a>\n",
      "<a href=\"/user-input-python-3-tutorial/\"><button class=\"btn waves-effect waves-light right-align\" style=\"background-color:#FFD166; color:#000000\">Go\\n\\t\\t\\t\\t\\t\\t\\t\\t\\t  </button></a>\n",
      "<a href=\"/statistics-python-3-module-mean-standard-deviation/\"><button class=\"btn waves-effect waves-light right-align\" style=\"background-color:#FFD166; color:#000000\">Go\\n\\t\\t\\t\\t\\t\\t\\t\\t\\t  </button></a>\n",
      "<a href=\"/module-import-syntax-python-3-tutorial/\"><button class=\"btn waves-effect waves-light right-align\" style=\"background-color:#FFD166; color:#000000\">Go\\n\\t\\t\\t\\t\\t\\t\\t\\t\\t  </button></a>\n",
      "<a href=\"/making-modules/\"><button class=\"btn waves-effect waves-light right-align\" style=\"background-color:#FFD166; color:#000000\">Go\\n\\t\\t\\t\\t\\t\\t\\t\\t\\t  </button></a>\n",
      "<a href=\"/python-lists-vs-tuples/\"><button class=\"btn waves-effect waves-light right-align\" style=\"background-color:#FFD166; color:#000000\">Go\\n\\t\\t\\t\\t\\t\\t\\t\\t\\t  </button></a>\n",
      "<a href=\"/python-3-list-manipulation/\"><button class=\"btn waves-effect waves-light right-align\" style=\"background-color:#FFD166; color:#000000\">Go\\n\\t\\t\\t\\t\\t\\t\\t\\t\\t  </button></a>\n",
      "<a href=\"/python-3-multi-dimensional-list/\"><button class=\"btn waves-effect waves-light right-align\" style=\"background-color:#FFD166; color:#000000\">Go\\n\\t\\t\\t\\t\\t\\t\\t\\t\\t  </button></a>\n",
      "<a href=\"/reading-csv-files-python-3/\"><button class=\"btn waves-effect waves-light right-align\" style=\"background-color:#FFD166; color:#000000\">Go\\n\\t\\t\\t\\t\\t\\t\\t\\t\\t  </button></a>\n",
      "<a href=\"/handling-exceptions-try-except-python-3/\"><button class=\"btn waves-effect waves-light right-align\" style=\"background-color:#FFD166; color:#000000\">Go\\n\\t\\t\\t\\t\\t\\t\\t\\t\\t  </button></a>\n",
      "<a href=\"/multi-line-printing-python-3/\"><button class=\"btn waves-effect waves-light right-align\" style=\"background-color:#FFD166; color:#000000\">Go\\n\\t\\t\\t\\t\\t\\t\\t\\t\\t  </button></a>\n",
      "<a href=\"/dictionaries-tutorial-python-3/\"><button class=\"btn waves-effect waves-light right-align\" style=\"background-color:#FFD166; color:#000000\">Go\\n\\t\\t\\t\\t\\t\\t\\t\\t\\t  </button></a>\n",
      "<a href=\"/built-functions-python-3/\"><button class=\"btn waves-effect waves-light right-align\" style=\"background-color:#FFD166; color:#000000\">Go\\n\\t\\t\\t\\t\\t\\t\\t\\t\\t  </button></a>\n",
      "<a href=\"/python-3-os-module/\"><button class=\"btn waves-effect waves-light right-align\" style=\"background-color:#FFD166; color:#000000\">Go\\n\\t\\t\\t\\t\\t\\t\\t\\t\\t  </button></a>\n",
      "<a href=\"/sys-module-python-3/\"><button class=\"btn waves-effect waves-light right-align\" style=\"background-color:#FFD166; color:#000000\">Go\\n\\t\\t\\t\\t\\t\\t\\t\\t\\t  </button></a>\n",
      "<a href=\"/urllib-tutorial-python-3/\"><button class=\"btn waves-effect waves-light right-align\" style=\"background-color:#FFD166; color:#000000\">Go\\n\\t\\t\\t\\t\\t\\t\\t\\t\\t  </button></a>\n",
      "<a href=\"/regular-expressions-regex-tutorial-python-3/\"><button class=\"btn waves-effect waves-light right-align\" style=\"background-color:#FFD166; color:#000000\">Go\\n\\t\\t\\t\\t\\t\\t\\t\\t\\t  </button></a>\n",
      "<a href=\"/python-3-tkinter-basics-tutorial/\"><button class=\"btn waves-effect waves-light right-align\" style=\"background-color:#FFD166; color:#000000\">Go\\n\\t\\t\\t\\t\\t\\t\\t\\t\\t  </button></a>\n",
      "<a href=\"/tkinter-python-3-tutorial-adding-buttons/\"><button class=\"btn waves-effect waves-light right-align\" style=\"background-color:#FFD166; color:#000000\">Go\\n\\t\\t\\t\\t\\t\\t\\t\\t\\t  </button></a>\n",
      "<a href=\"/tkinter-tutorial-python-3-event-handling/\"><button class=\"btn waves-effect waves-light right-align\" style=\"background-color:#FFD166; color:#000000\">Go\\n\\t\\t\\t\\t\\t\\t\\t\\t\\t  </button></a>\n",
      "<a href=\"/tkinter-menu-bar-tutorial/\"><button class=\"btn waves-effect waves-light right-align\" style=\"background-color:#FFD166; color:#000000\">Go\\n\\t\\t\\t\\t\\t\\t\\t\\t\\t  </button></a>\n",
      "<a href=\"/tkinter-adding-text-images/\"><button class=\"btn waves-effect waves-light right-align\" style=\"background-color:#FFD166; color:#000000\">Go\\n\\t\\t\\t\\t\\t\\t\\t\\t\\t  </button></a>\n",
      "<a href=\"/threading-tutorial-python/\"><button class=\"btn waves-effect waves-light right-align\" style=\"background-color:#FFD166; color:#000000\">Go\\n\\t\\t\\t\\t\\t\\t\\t\\t\\t  </button></a>\n",
      "<a href=\"/converting-python-scripts-exe-executables/\"><button class=\"btn waves-effect waves-light right-align\" style=\"background-color:#FFD166; color:#000000\">Go\\n\\t\\t\\t\\t\\t\\t\\t\\t\\t  </button></a>\n",
      "<a href=\"/python-3-subprocess-tutorial/\"><button class=\"btn waves-effect waves-light right-align\" style=\"background-color:#FFD166; color:#000000\">Go\\n\\t\\t\\t\\t\\t\\t\\t\\t\\t  </button></a>\n",
      "<a href=\"/matplotlib-python-3-basics-tutorial/\"><button class=\"btn waves-effect waves-light right-align\" style=\"background-color:#FFD166; color:#000000\">Go\\n\\t\\t\\t\\t\\t\\t\\t\\t\\t  </button></a>\n",
      "<a href=\"/ftp-transfers-python-ftplib/\"><button class=\"btn waves-effect waves-light right-align\" style=\"background-color:#FFD166; color:#000000\">Go\\n\\t\\t\\t\\t\\t\\t\\t\\t\\t  </button></a>\n",
      "<a href=\"/python-sockets/\"><button class=\"btn waves-effect waves-light right-align\" style=\"background-color:#FFD166; color:#000000\">Go\\n\\t\\t\\t\\t\\t\\t\\t\\t\\t  </button></a>\n",
      "<a href=\"/python-port-scanner-sockets/\"><button class=\"btn waves-effect waves-light right-align\" style=\"background-color:#FFD166; color:#000000\">Go\\n\\t\\t\\t\\t\\t\\t\\t\\t\\t  </button></a>\n",
      "<a href=\"/python-threaded-port-scanner/\"><button class=\"btn waves-effect waves-light right-align\" style=\"background-color:#FFD166; color:#000000\">Go\\n\\t\\t\\t\\t\\t\\t\\t\\t\\t  </button></a>\n",
      "<a href=\"/python-binding-listening-sockets/\"><button class=\"btn waves-effect waves-light right-align\" style=\"background-color:#FFD166; color:#000000\">Go\\n\\t\\t\\t\\t\\t\\t\\t\\t\\t  </button></a>\n",
      "<a href=\"/client-server-python-sockets/\"><button class=\"btn waves-effect waves-light right-align\" style=\"background-color:#FFD166; color:#000000\">Go\\n\\t\\t\\t\\t\\t\\t\\t\\t\\t  </button></a>\n",
      "<a href=\"/converting-python2-to-python3-2to3/\"><button class=\"btn waves-effect waves-light right-align\" style=\"background-color:#FFD166; color:#000000\">Go\\n\\t\\t\\t\\t\\t\\t\\t\\t\\t  </button></a>\n",
      "<a href=\"/python-pickle-module-save-objects-serialization/\"><button class=\"btn waves-effect waves-light right-align\" style=\"background-color:#FFD166; color:#000000\">Go\\n\\t\\t\\t\\t\\t\\t\\t\\t\\t  </button></a>\n",
      "<a href=\"/python-eval-tutorial/\"><button class=\"btn waves-effect waves-light right-align\" style=\"background-color:#FFD166; color:#000000\">Go\\n\\t\\t\\t\\t\\t\\t\\t\\t\\t  </button></a>\n",
      "<a href=\"/python-exec-tutorial/\"><button class=\"btn waves-effect waves-light right-align\" style=\"background-color:#FFD166; color:#000000\">Go\\n\\t\\t\\t\\t\\t\\t\\t\\t\\t  </button></a>\n",
      "\\n\\t\\t\\t\\t\\t\\t<a href=\"#\" class=\"btn btn-flat white modal-close\">Cancel</a> &nbsp;\\n\\t\\t\\t\\t\\t\\t<a href=\"#\" class=\"waves-effect waves-blue blue btn btn-flat modal-action modal-close\">Login</a>\\n\\t\\t\\t\\t\\t\n",
      "\\n\\t\\t\\t\\t\\t\\t\\t\\t<a href=\"#\" class=\"btn btn-flat white modal-close\">Cancel</a> &nbsp;\\n\\t\\t\\t\\t\\t\\t\\t\\t<button class=\"btn\" type=submit value=Register>Sign Up</button>\\n\\t\\t\\t\\t\\t\\t\\t\n"
     ]
    }
   ],
   "source": [
    "for eachP in paragraphs:\n",
    "    print(eachP)"
   ]
  },
  {
   "cell_type": "markdown",
   "metadata": {},
   "source": [
    "## Example 2"
   ]
  },
  {
   "cell_type": "code",
   "execution_count": 17,
   "metadata": {
    "collapsed": true
   },
   "outputs": [],
   "source": [
    "import urllib.request\n",
    "import re\n",
    "\n",
    "url = 'https://www.goodreads.com/genres/art'\n",
    "\n",
    "req = urllib.request.Request(url)\n",
    "resp = urllib.request.urlopen(req)\n",
    "respData = resp.read()"
   ]
  },
  {
   "cell_type": "code",
   "execution_count": 18,
   "metadata": {
    "collapsed": false
   },
   "outputs": [],
   "source": [
    "paragraphs = re.findall(r'<div class=\"description descriptionContainer\">(.*?)</div>',str(respData))\n",
    "paragraphs1 = re.findall(r'href=\".*?\"',str(paragraphs))"
   ]
  },
  {
   "cell_type": "code",
   "execution_count": 19,
   "metadata": {
    "collapsed": false
   },
   "outputs": [
    {
     "name": "stdout",
     "output_type": "stream",
     "text": [
      "href=\"https://www.goodreads.com/book/show/37683210-daemon-voices\"\n",
      "href=\"https://www.goodreads.com/author/show/3618.Philip_Pullman\"\n",
      "href=\"https://www.goodreads.com/book/show/36677251-fantasy-snowflakes-coloring-book\"\n",
      "href=\"https://www.goodreads.com/author/show/8283255.J_S_Burke\"\n",
      "href=\"https://www.goodreads.com/book/show/39732774-bad-environmentalism\"\n",
      "href=\"https://www.goodreads.com/author/show/6561744.Nicole_Seymour\"\n"
     ]
    }
   ],
   "source": [
    "for eachP in paragraphs1:\n",
    "    print(eachP)"
   ]
  },
  {
   "cell_type": "code",
   "execution_count": null,
   "metadata": {
    "collapsed": true
   },
   "outputs": [],
   "source": []
  }
 ],
 "metadata": {
  "anaconda-cloud": {},
  "kernelspec": {
   "display_name": "Python [default]",
   "language": "python",
   "name": "python3"
  },
  "language_info": {
   "codemirror_mode": {
    "name": "ipython",
    "version": 3
   },
   "file_extension": ".py",
   "mimetype": "text/x-python",
   "name": "python",
   "nbconvert_exporter": "python",
   "pygments_lexer": "ipython3",
   "version": "3.5.2"
  }
 },
 "nbformat": 4,
 "nbformat_minor": 1
}
